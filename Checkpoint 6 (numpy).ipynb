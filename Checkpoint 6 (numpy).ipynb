{
 "cells": [
  {
   "cell_type": "code",
   "execution_count": 6,
   "id": "e76fc5a1",
   "metadata": {},
   "outputs": [
    {
     "name": "stdout",
     "output_type": "stream",
     "text": [
      "NumPy Array:\n",
      "[2 5 3 6 8]\n",
      "List: [2, 5, 3, 6, 8]\n"
     ]
    }
   ],
   "source": [
    "import numpy as np \n",
    "new_array=np.array([2,5,3,6,8])\n",
    "print(f'NumPy Array:\\n{new_array}')\n",
    "\n",
    "list1 = new_array.tolist()\n",
    "print(f'List: {list1}')"
   ]
  },
  {
   "cell_type": "code",
   "execution_count": 9,
   "id": "656551bd",
   "metadata": {},
   "outputs": [
    {
     "name": "stdout",
     "output_type": "stream",
     "text": [
      "Original :  [[0 1 2]\n",
      " [3 4 5]]\n",
      "output :  4\n"
     ]
    }
   ],
   "source": [
    "import numpy as np \n",
    "array = np.arange(6).reshape(2,3)\n",
    "print(\"Original : \", array)\n",
    "result = np.trace(array)\n",
    "print(\"output : \", result)\n"
   ]
  },
  {
   "cell_type": "code",
   "execution_count": 17,
   "id": "5f0230b6",
   "metadata": {},
   "outputs": [
    {
     "name": "stdout",
     "output_type": "stream",
     "text": [
      "array: \n",
      "[[ 0 10 20]\n",
      " [20 30 40]]\n",
      "Values bigger than 10 = [20 20 30 40]\n",
      "Their indices are  (array([0, 1, 1, 1], dtype=int64), array([2, 0, 1, 2], dtype=int64))\n"
     ]
    }
   ],
   "source": [
    "import numpy as np\n",
    "x = np.array([[0, 10, 20], [20, 30, 40]])\n",
    "print(\"array: \")\n",
    "print(x)\n",
    "print(\"Values bigger than 10 =\", x[x>10])\n",
    "print(\"Their indices are \", np.nonzero(x > 10))\n",
    "    "
   ]
  },
  {
   "cell_type": "code",
   "execution_count": 1,
   "id": "d8053673",
   "metadata": {},
   "outputs": [
    {
     "name": "stdout",
     "output_type": "stream",
     "text": [
      "The new array is :  [ 0. 20. 40.]\n"
     ]
    }
   ],
   "source": [
    "import numpy as np \n",
    "A= np.array([0, 10, 20], dtype=np.float64)\n",
    "B= np.array([0, 10, 20], dtype=np.float64)\n",
    "C= A + B\n",
    "print(\"The new array is : \", C)"
   ]
  },
  {
   "cell_type": "code",
   "execution_count": 2,
   "id": "0156e695",
   "metadata": {},
   "outputs": [
    {
     "name": "stdout",
     "output_type": "stream",
     "text": [
      "original matrix:\n",
      "[[8.81381303e-01 8.05414914e-01 2.66974042e-02 3.10952179e-01\n",
      "  8.33644063e-01 5.29149825e-01 6.45310802e-02 9.80091947e-01\n",
      "  9.64320919e-03 7.13952401e-01]\n",
      " [6.58811799e-01 5.96866669e-02 3.57652213e-01 5.06315774e-01\n",
      "  3.54104394e-01 2.40762921e-01 3.95300686e-01 7.56021257e-01\n",
      "  4.76811968e-01 7.12857006e-01]\n",
      " [4.80562216e-01 6.24310745e-01 7.47126326e-02 9.98819516e-01\n",
      "  1.27465033e-02 8.84526970e-01 7.97330978e-01 3.23784083e-02\n",
      "  4.36275918e-01 6.31805677e-02]\n",
      " [4.63359010e-01 3.30492786e-02 4.12032432e-01 9.55634120e-01\n",
      "  7.09405807e-01 1.77907437e-01 1.76840202e-01 6.69329980e-01\n",
      "  3.93602375e-01 8.34407931e-02]\n",
      " [9.98228793e-05 3.67048033e-01 6.64444212e-01 7.94152196e-01\n",
      "  3.51536098e-01 5.53853627e-01 5.66084497e-01 6.65628771e-01\n",
      "  6.31596667e-01 6.45565792e-01]]\n",
      "subtract the mean of each row of the said matrix:\n",
      "[[ 0.36583547  0.28986908 -0.48884843 -0.20459365  0.31809823  0.01360399\n",
      "  -0.45101475  0.46454611 -0.50590262  0.19840657]\n",
      " [ 0.20697933 -0.3921458  -0.09418026  0.05448331 -0.09772807 -0.21106955\n",
      "  -0.05653178  0.30418879  0.0249795   0.26102454]\n",
      " [ 0.04007777  0.1838263  -0.36577181  0.55833507 -0.42773794  0.44404252\n",
      "   0.35684653 -0.40810604 -0.00420853 -0.37730388]\n",
      " [ 0.05589887 -0.37441086  0.00457229  0.54817398  0.30194566 -0.22955271\n",
      "  -0.23061994  0.26186984 -0.01385777 -0.32401935]\n",
      " [-0.52390115 -0.15695294  0.14044324  0.27015122 -0.17246487  0.02985266\n",
      "   0.04208353  0.1416278   0.1075957   0.12156482]]\n"
     ]
    }
   ],
   "source": [
    "import numpy as np\n",
    "print(\"original matrix:\")\n",
    "X = np.random.rand(5, 10)\n",
    "print(X)\n",
    "print(\"subtract the mean of each row of the said matrix:\")\n",
    "Y = X - X.mean(axis=1, keepdims=True)\n",
    "print(Y)"
   ]
  },
  {
   "cell_type": "code",
   "execution_count": null,
   "id": "48b13c0f",
   "metadata": {},
   "outputs": [],
   "source": []
  }
 ],
 "metadata": {
  "kernelspec": {
   "display_name": "Python 3",
   "language": "python",
   "name": "python3"
  },
  "language_info": {
   "codemirror_mode": {
    "name": "ipython",
    "version": 3
   },
   "file_extension": ".py",
   "mimetype": "text/x-python",
   "name": "python",
   "nbconvert_exporter": "python",
   "pygments_lexer": "ipython3",
   "version": "3.8.8"
  }
 },
 "nbformat": 4,
 "nbformat_minor": 5
}
